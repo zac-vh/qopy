{
 "cells": [
  {
   "cell_type": "code",
   "id": "initial_id",
   "metadata": {
    "collapsed": true
   },
   "source": [
    "import numpy as np\n",
    "import matplotlib.pyplot as plt\n",
    "import matplotlib as mpl\n",
    "mpl.rcParams['text.usetex'] = True\n",
    "\n",
    "from qopy.phase_space import wigner as wig, measures as meas, transforms as trans\n",
    "import qopy.plotting as wplt\n",
    "import qopy.utils.majorization as mjz"
   ],
   "outputs": [],
   "execution_count": null
  },
  {
   "metadata": {},
   "cell_type": "code",
   "source": [
    "rl = 15\n",
    "nr = 1000\n",
    "\n",
    "w0 = wig.fock(0, rl, nr)\n",
    "w1 = wig.fock(1, rl, nr)\n",
    "w5 = wig.fock(5, rl, nr)\n",
    "\n",
    "eta1 = 0.6\n",
    "w0_resc_1 = trans.rescale(w0, np.sqrt(1-eta1))\n",
    "w1_resc = trans.rescale(w1, np.sqrt(eta1))\n",
    "w1_loss = trans.convolve(w1_resc, w0_resc_1, rl)\n",
    "\n",
    "eta2 = 0.95\n",
    "w0_resc_2 = trans.rescale(w0, np.sqrt(1-eta2))\n",
    "w5_resc = trans.rescale(w5, np.sqrt(eta2))\n",
    "w5_loss = trans.convolve(w5_resc, w0_resc_2, rl)\n",
    "\n",
    "wplt.grid_2d([w1, w1_loss, w5, w5_loss], rl, titles=['$W_{1}$', '$W_{1}^{\\\\mathrm{loss}}$', '$W_{5}$', '$W_{5}^{\\\\mathrm{loss}}$'])"
   ],
   "id": "bc0e42f064007ad",
   "outputs": [],
   "execution_count": null
  },
  {
   "metadata": {},
   "cell_type": "code",
   "source": [
    "print('w1_loss')\n",
    "print('norm: ', meas.integrate_2d(w1_loss, rl))\n",
    "print('purity: ', meas.purity(w1_loss, rl))\n",
    "print('neg vol: ', meas.negative_volume(w1_loss, rl))\n",
    "print('max: ', np.max(w1_loss))\n",
    "print('min: ', np.min(w1_loss))\n",
    "print('stellar rank: 1')\n",
    "print('-------------------------------')\n",
    "print('w5_loss')\n",
    "print('norm: ', meas.integrate_2d(w5_loss, rl))\n",
    "print('purity: ', meas.purity(w5_loss, rl))\n",
    "print('neg vol: ', meas.negative_volume(w5_loss, rl))\n",
    "print('max: ', np.max(w5_loss))\n",
    "print('min: ', np.min(w5_loss))\n",
    "print('stellar rank: 5')\n"
   ],
   "id": "1b4708ecb2316577",
   "outputs": [],
   "execution_count": null
  },
  {
   "metadata": {},
   "cell_type": "code",
   "source": [
    "lorenz_dec_w1_loss = mjz.lorenz_decreasing_2d(w1_loss, rl)\n",
    "lorenz_inc_w1_loss = mjz.lorenz_increasing_2d(w1_loss, rl)\n",
    "lorenz_dec_w5_loss = mjz.lorenz_decreasing_2d(w5_loss, rl)\n",
    "lorenz_inc_w5_loss = mjz.lorenz_increasing_2d(w5_loss, rl)\n",
    "\n",
    "plt.plot(lorenz_dec_w1_loss, label='$W_{1}^{\\\\mathrm{loss}}$', color='tab:blue')\n",
    "plt.plot(lorenz_inc_w1_loss, color='tab:blue')\n",
    "plt.plot(lorenz_dec_w5_loss, label='$W_{5}^{\\\\mathrm{loss}}$', color='tab:red')\n",
    "plt.plot(lorenz_inc_w5_loss, color='tab:red')\n",
    "plt.legend(loc='best')\n",
    "plt.show()\n"
   ],
   "id": "9a09bf05605634fd",
   "outputs": [],
   "execution_count": null
  }
 ],
 "metadata": {
  "kernelspec": {
   "display_name": "Python 3",
   "language": "python",
   "name": "python3"
  },
  "language_info": {
   "codemirror_mode": {
    "name": "ipython",
    "version": 2
   },
   "file_extension": ".py",
   "mimetype": "text/x-python",
   "name": "python",
   "nbconvert_exporter": "python",
   "pygments_lexer": "ipython2",
   "version": "2.7.6"
  }
 },
 "nbformat": 4,
 "nbformat_minor": 5
}
