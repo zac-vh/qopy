{
 "cells": [
  {
   "cell_type": "code",
   "metadata": {
    "ExecuteTime": {
     "end_time": "2025-10-02T10:08:25.885404Z",
     "start_time": "2025-10-02T10:08:22.809972Z"
    }
   },
   "source": [
    "import numpy as np\n",
    "import matplotlib.pyplot as plt\n",
    "\n",
    "import qopy.phase_space as ps\n",
    "import qopy.phase_space.wigner as wig\n",
    "import qopy.phase_space.measures as meas\n",
    "import qopy.plotting as wplot\n",
    "import qopy.utils.majorization as mjz"
   ],
   "outputs": [
    {
     "ename": "ImportError",
     "evalue": "cannot import name 'transition_amplitude' from partially initialized module 'state_space.beamsplitter' (most likely due to a circular import) (/Users/zvanhers/Documents/GitHub/qopy/qopy/state_space/beamsplitter.py)",
     "output_type": "error",
     "traceback": [
      "\u001B[31m---------------------------------------------------------------------------\u001B[39m",
      "\u001B[31mImportError\u001B[39m                               Traceback (most recent call last)",
      "\u001B[36mCell\u001B[39m\u001B[36m \u001B[39m\u001B[32mIn[1]\u001B[39m\u001B[32m, line 4\u001B[39m\n\u001B[32m      1\u001B[39m \u001B[38;5;28;01mimport\u001B[39;00m\u001B[38;5;250m \u001B[39m\u001B[34;01mnumpy\u001B[39;00m\u001B[38;5;250m \u001B[39m\u001B[38;5;28;01mas\u001B[39;00m\u001B[38;5;250m \u001B[39m\u001B[34;01mnp\u001B[39;00m\n\u001B[32m      2\u001B[39m \u001B[38;5;28;01mimport\u001B[39;00m\u001B[38;5;250m \u001B[39m\u001B[34;01mmatplotlib\u001B[39;00m\u001B[34;01m.\u001B[39;00m\u001B[34;01mpyplot\u001B[39;00m\u001B[38;5;250m \u001B[39m\u001B[38;5;28;01mas\u001B[39;00m\u001B[38;5;250m \u001B[39m\u001B[34;01mplt\u001B[39;00m\n\u001B[32m----> \u001B[39m\u001B[32m4\u001B[39m \u001B[38;5;28;01mimport\u001B[39;00m\u001B[38;5;250m \u001B[39m\u001B[34;01mqopy\u001B[39;00m\u001B[34;01m.\u001B[39;00m\u001B[34;01mphase_space\u001B[39;00m\u001B[34;01m.\u001B[39;00m\u001B[34;01mwigner\u001B[39;00m\u001B[38;5;250m \u001B[39m\u001B[38;5;28;01mas\u001B[39;00m\u001B[38;5;250m \u001B[39m\u001B[34;01mwig\u001B[39;00m\n\u001B[32m      5\u001B[39m \u001B[38;5;28;01mimport\u001B[39;00m\u001B[38;5;250m \u001B[39m\u001B[34;01mqopy\u001B[39;00m\u001B[34;01m.\u001B[39;00m\u001B[34;01mphase_space\u001B[39;00m\u001B[34;01m.\u001B[39;00m\u001B[34;01mmeasures\u001B[39;00m\u001B[38;5;250m \u001B[39m\u001B[38;5;28;01mas\u001B[39;00m\u001B[38;5;250m \u001B[39m\u001B[34;01mmeas\u001B[39;00m\n\u001B[32m      6\u001B[39m \u001B[38;5;28;01mimport\u001B[39;00m\u001B[38;5;250m \u001B[39m\u001B[34;01mqopy\u001B[39;00m\u001B[34;01m.\u001B[39;00m\u001B[34;01mplotting\u001B[39;00m\u001B[38;5;250m \u001B[39m\u001B[38;5;28;01mas\u001B[39;00m\u001B[38;5;250m \u001B[39m\u001B[34;01mwplot\u001B[39;00m\n",
      "\u001B[36mFile \u001B[39m\u001B[32m~/Documents/GitHub/qopy/qopy/__init__.py:1\u001B[39m\n\u001B[32m----> \u001B[39m\u001B[32m1\u001B[39m \u001B[38;5;28;01mfrom\u001B[39;00m\u001B[38;5;250m \u001B[39m\u001B[34;01m.\u001B[39;00m\u001B[38;5;250m \u001B[39m\u001B[38;5;28;01mimport\u001B[39;00m (\n\u001B[32m      2\u001B[39m     phase_space,\n\u001B[32m      3\u001B[39m     state_space,\n\u001B[32m      4\u001B[39m     utils,\n\u001B[32m      5\u001B[39m     overlap,\n\u001B[32m      6\u001B[39m     plotting,\n\u001B[32m      7\u001B[39m )\n",
      "\u001B[36mFile \u001B[39m\u001B[32m~/Documents/GitHub/qopy/qopy/state_space/__init__.py:1\u001B[39m\n\u001B[32m----> \u001B[39m\u001B[32m1\u001B[39m \u001B[38;5;28;01mfrom\u001B[39;00m\u001B[38;5;250m \u001B[39m\u001B[34;01m.\u001B[39;00m\u001B[38;5;250m \u001B[39m\u001B[38;5;28;01mimport\u001B[39;00m (\n\u001B[32m      2\u001B[39m    beamsplitter,\n\u001B[32m      3\u001B[39m    bosonic_operators,\n\u001B[32m      4\u001B[39m    channels,\n\u001B[32m      5\u001B[39m    density,\n\u001B[32m      6\u001B[39m    ket,\n\u001B[32m      7\u001B[39m    measures,\n\u001B[32m      8\u001B[39m    multimode,\n\u001B[32m      9\u001B[39m )\n",
      "\u001B[36mFile \u001B[39m\u001B[32m~/Documents/GitHub/qopy/qopy/state_space/beamsplitter.py:3\u001B[39m\n\u001B[32m      1\u001B[39m \u001B[38;5;28;01mimport\u001B[39;00m\u001B[38;5;250m \u001B[39m\u001B[34;01mnumpy\u001B[39;00m\u001B[38;5;250m \u001B[39m\u001B[38;5;28;01mas\u001B[39;00m\u001B[38;5;250m \u001B[39m\u001B[34;01mnp\u001B[39;00m\n\u001B[32m      2\u001B[39m \u001B[38;5;28;01mimport\u001B[39;00m\u001B[38;5;250m \u001B[39m\u001B[34;01mscipy\u001B[39;00m\n\u001B[32m----> \u001B[39m\u001B[32m3\u001B[39m \u001B[38;5;28;01mfrom\u001B[39;00m\u001B[38;5;250m \u001B[39m\u001B[34;01mstate_space\u001B[39;00m\u001B[34;01m.\u001B[39;00m\u001B[34;01mdensity\u001B[39;00m\u001B[38;5;250m \u001B[39m\u001B[38;5;28;01mimport\u001B[39;00m trim\n\u001B[32m      6\u001B[39m \u001B[38;5;28;01mdef\u001B[39;00m\u001B[38;5;250m \u001B[39m\u001B[34mtransition_amplitude\u001B[39m(i, k, n, eta=\u001B[32m0.5\u001B[39m):\n\u001B[32m      7\u001B[39m \u001B[38;5;250m    \u001B[39m\u001B[33;03m\"\"\"\u001B[39;00m\n\u001B[32m      8\u001B[39m \u001B[33;03m    Return the transition amplitude of the beam splitter: ⟨i, k| U_BS |n, i+k−n⟩\u001B[39;00m\n\u001B[32m      9\u001B[39m \u001B[33;03m    where eta is the transmittance (0 ≤ eta ≤ 1).\u001B[39;00m\n\u001B[32m     10\u001B[39m \u001B[33;03m    \"\"\"\u001B[39;00m\n",
      "\u001B[36mFile \u001B[39m\u001B[32m~/Documents/GitHub/qopy/qopy/state_space/__init__.py:1\u001B[39m\n\u001B[32m----> \u001B[39m\u001B[32m1\u001B[39m \u001B[38;5;28;01mfrom\u001B[39;00m\u001B[38;5;250m \u001B[39m\u001B[34;01m.\u001B[39;00m\u001B[38;5;250m \u001B[39m\u001B[38;5;28;01mimport\u001B[39;00m (\n\u001B[32m      2\u001B[39m    beamsplitter,\n\u001B[32m      3\u001B[39m    bosonic_operators,\n\u001B[32m      4\u001B[39m    channels,\n\u001B[32m      5\u001B[39m    density,\n\u001B[32m      6\u001B[39m    ket,\n\u001B[32m      7\u001B[39m    measures,\n\u001B[32m      8\u001B[39m    multimode,\n\u001B[32m      9\u001B[39m )\n",
      "\u001B[36mFile \u001B[39m\u001B[32m~/Documents/GitHub/qopy/qopy/state_space/beamsplitter.py:3\u001B[39m\n\u001B[32m      1\u001B[39m \u001B[38;5;28;01mimport\u001B[39;00m\u001B[38;5;250m \u001B[39m\u001B[34;01mnumpy\u001B[39;00m\u001B[38;5;250m \u001B[39m\u001B[38;5;28;01mas\u001B[39;00m\u001B[38;5;250m \u001B[39m\u001B[34;01mnp\u001B[39;00m\n\u001B[32m      2\u001B[39m \u001B[38;5;28;01mimport\u001B[39;00m\u001B[38;5;250m \u001B[39m\u001B[34;01mscipy\u001B[39;00m\n\u001B[32m----> \u001B[39m\u001B[32m3\u001B[39m \u001B[38;5;28;01mfrom\u001B[39;00m\u001B[38;5;250m \u001B[39m\u001B[34;01mstate_space\u001B[39;00m\u001B[34;01m.\u001B[39;00m\u001B[34;01mdensity\u001B[39;00m\u001B[38;5;250m \u001B[39m\u001B[38;5;28;01mimport\u001B[39;00m trim\n\u001B[32m      6\u001B[39m \u001B[38;5;28;01mdef\u001B[39;00m\u001B[38;5;250m \u001B[39m\u001B[34mtransition_amplitude\u001B[39m(i, k, n, eta=\u001B[32m0.5\u001B[39m):\n\u001B[32m      7\u001B[39m \u001B[38;5;250m    \u001B[39m\u001B[33;03m\"\"\"\u001B[39;00m\n\u001B[32m      8\u001B[39m \u001B[33;03m    Return the transition amplitude of the beam splitter: ⟨i, k| U_BS |n, i+k−n⟩\u001B[39;00m\n\u001B[32m      9\u001B[39m \u001B[33;03m    where eta is the transmittance (0 ≤ eta ≤ 1).\u001B[39;00m\n\u001B[32m     10\u001B[39m \u001B[33;03m    \"\"\"\u001B[39;00m\n",
      "\u001B[36mFile \u001B[39m\u001B[32m~/Documents/GitHub/qopy/qopy/state_space/density.py:5\u001B[39m\n\u001B[32m      3\u001B[39m \u001B[38;5;28;01mimport\u001B[39;00m\u001B[38;5;250m \u001B[39m\u001B[34;01mscipy\u001B[39;00m\n\u001B[32m      4\u001B[39m \u001B[38;5;28;01mimport\u001B[39;00m\u001B[38;5;250m \u001B[39m\u001B[34;01mrandom\u001B[39;00m\n\u001B[32m----> \u001B[39m\u001B[32m5\u001B[39m \u001B[38;5;28;01mfrom\u001B[39;00m\u001B[38;5;250m \u001B[39m\u001B[34;01mstate_space\u001B[39;00m\u001B[34;01m.\u001B[39;00m\u001B[34;01mbeamsplitter\u001B[39;00m\u001B[38;5;250m \u001B[39m\u001B[38;5;28;01mimport\u001B[39;00m transition_amplitude\n\u001B[32m      8\u001B[39m \u001B[38;5;28;01mdef\u001B[39;00m\u001B[38;5;250m \u001B[39m\u001B[34mrotate\u001B[39m(rho, phi):\n\u001B[32m      9\u001B[39m     rotmat = np.diag(np.exp(-\u001B[32m1\u001B[39mj*phi*np.arange(\u001B[38;5;28mlen\u001B[39m(rho))))\n",
      "\u001B[31mImportError\u001B[39m: cannot import name 'transition_amplitude' from partially initialized module 'state_space.beamsplitter' (most likely due to a circular import) (/Users/zvanhers/Documents/GitHub/qopy/qopy/state_space/beamsplitter.py)"
     ]
    }
   ],
   "execution_count": 1
  },
  {
   "cell_type": "code",
   "metadata": {},
   "source": [
    "# phase-space grid dimension (-rl/2, rl/2) x (-rl/2 x rl/2)\n",
    "rl = 15\n",
    "nr = 1000 #number of points\n",
    "\n",
    "# cubic phase state\n",
    "gamma = 0.5\n",
    "disp = (0, -3)\n",
    "sq = 1.5\n",
    "wcubic = wig.cubic_phase(gamma, rl, nr, disp, sq)\n",
    "print('Norm wcubic: ', meas.integrate_2d(wcubic, rl)) #norm check\n",
    "print('Purity wcubic: ', meas.purity(wcubic, rl)) #purity check\n",
    "\n",
    "# fock state\n",
    "n = 4\n",
    "wfock = wig.fock(4, rl, nr)\n",
    "print('Norm wfock: ', meas.integrate_2d(wcubic, rl)) #norm check\n",
    "print('Purity wfock: ', meas.purity(wcubic, rl)) #purity check\n",
    "\n",
    "# cat-state\n",
    "alpha = 3\n",
    "alpha_list = [alpha, -alpha]\n",
    "amplitudes_list = [1, -1]\n",
    "wcat = ps.superposition.coherent(alpha_list, amplitudes_list, rl, nr)\n",
    "print('Norm wcat: ', meas.integrate_2d(wcat, rl)) #norm check\n",
    "print('Purity wcat: ', meas.purity(wcat, rl)) #purity check\n",
    "\n",
    "# plotting\n",
    "wplot.grid_2d([wcubic, wfock, wcat], rl, titles=['cubic phase state', 'fock state', 'cat state'])"
   ],
   "outputs": [],
   "execution_count": null
  },
  {
   "cell_type": "code",
   "metadata": {},
   "source": [
    "# computing negative volumes\n",
    "print('Negative volume wcubic: ', meas.negative_volume(wcubic, rl))\n",
    "print('Negative volume wfock: ', meas.negative_volume(wfock, rl))\n",
    "print('Negative volume wcat: ', meas.negative_volume(wcat, rl))\n",
    "\n",
    "# computing Rényi entropies\n",
    "na = 100\n",
    "alist = np.linspace(1.5, 6, na)\n",
    "\n",
    "renyi_wcubic = np.zeros(na)\n",
    "renyi_wfock = np.zeros(na)\n",
    "renyi_wcat = np.zeros(na)\n",
    "\n",
    "for i in range(na):\n",
    "    ai = alist[i]\n",
    "    renyi_wcubic[i] = meas.renyi_entropy_2d(wcubic, rl, ai)\n",
    "    renyi_wfock[i] = meas.renyi_entropy_2d(wfock, rl, ai)\n",
    "    renyi_wcat[i] = meas.renyi_entropy_2d(wcat, rl, ai)\n",
    "\n",
    "\n",
    "plt.plot(alist, renyi_wcubic, label='cubic phase state')\n",
    "plt.plot(alist, renyi_wfock, label='fock state')\n",
    "plt.plot(alist, renyi_wcat, label='cat state')\n",
    "plt.title('Rényi entropy')\n",
    "plt.legend()\n",
    "plt.show()"
   ],
   "outputs": [],
   "execution_count": null
  },
  {
   "cell_type": "code",
   "metadata": {},
   "source": [
    "lorenz_dec_wcubic = mjz.lorenz_decreasing_2d(wcubic, rl)\n",
    "lorenz_inc_wcubic = mjz.lorenz_increasing_2d(wcubic, rl)\n",
    "lorenz_dec_wfock = mjz.lorenz_decreasing_2d(wfock, rl)\n",
    "lorenz_inc_wfock = mjz.lorenz_increasing_2d(wfock, rl)\n",
    "lorenz_dec_wcat = mjz.lorenz_decreasing_2d(wcat, rl)\n",
    "lorenz_inc_wcat = mjz.lorenz_increasing_2d(wcat, rl)\n",
    "\n",
    "plt.plot(lorenz_dec_wcubic, color='tab:blue', label='cubic phase state')\n",
    "plt.plot(lorenz_inc_wcubic, color='tab:blue')\n",
    "plt.plot(lorenz_dec_wfock, color='tab:orange', label='fock state')\n",
    "plt.plot(lorenz_inc_wfock, color='tab:orange')\n",
    "plt.plot(lorenz_dec_wcat, color='tab:green', label='cat state')\n",
    "plt.plot(lorenz_inc_wcat, color='tab:green')\n",
    "plt.title('Lorenz curves')\n",
    "plt.legend()\n",
    "plt.show()"
   ],
   "outputs": [],
   "execution_count": null
  },
  {
   "metadata": {},
   "cell_type": "code",
   "source": "",
   "outputs": [],
   "execution_count": null
  }
 ],
 "metadata": {
  "colab": {
   "authorship_tag": "ABX9TyP8P26mrsMeps/Krd+j1wOP",
   "include_colab_link": true,
   "provenance": []
  },
  "kernelspec": {
   "display_name": "Python 3 (ipykernel)",
   "language": "python",
   "name": "python3"
  },
  "language_info": {
   "codemirror_mode": {
    "name": "ipython",
    "version": 3
   },
   "file_extension": ".py",
   "mimetype": "text/x-python",
   "name": "python",
   "nbconvert_exporter": "python",
   "pygments_lexer": "ipython3",
   "version": "3.12.2"
  }
 },
 "nbformat": 4,
 "nbformat_minor": 4
}
